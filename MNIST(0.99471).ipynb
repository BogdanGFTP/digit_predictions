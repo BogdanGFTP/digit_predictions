{
  "nbformat": 4,
  "nbformat_minor": 0,
  "metadata": {
    "colab": {
      "name": "MNIST.ipynb",
      "version": "0.3.2",
      "provenance": [],
      "collapsed_sections": [],
      "include_colab_link": true
    },
    "kernelspec": {
      "name": "python3",
      "display_name": "Python 3"
    },
    "accelerator": "GPU"
  },
  "cells": [
    {
      "cell_type": "markdown",
      "metadata": {
        "id": "view-in-github",
        "colab_type": "text"
      },
      "source": [
        "<a href=\"https://colab.research.google.com/github/BogdanGFTP/digit_predictions/blob/master/MNIST(0.99471).ipynb\" target=\"_parent\"><img src=\"https://colab.research.google.com/assets/colab-badge.svg\" alt=\"Open In Colab\"/></a>"
      ]
    },
    {
      "metadata": {
        "id": "FjGMtCqT_FT5",
        "colab_type": "code",
        "colab": {
          "base_uri": "https://localhost:8080/",
          "height": 291
        },
        "outputId": "c7e88d76-2e48-46ee-f94f-3b0a958ce442"
      },
      "cell_type": "code",
      "source": [
        "from google.colab import drive, files\n",
        "drive.mount('/content/drive/')"
      ],
      "execution_count": 1,
      "outputs": [
        {
          "output_type": "stream",
          "text": [
            "Go to this URL in a browser: https://accounts.google.com/o/oauth2/auth?client_id=947318989803-6bn6qk8qdgf4n4g3pfee6491hc0brc4i.apps.googleusercontent.com&redirect_uri=urn%3Aietf%3Awg%3Aoauth%3A2.0%3Aoob&scope=email%20https%3A%2F%2Fwww.googleapis.com%2Fauth%2Fdocs.test%20https%3A%2F%2Fwww.googleapis.com%2Fauth%2Fdrive%20https%3A%2F%2Fwww.googleapis.com%2Fauth%2Fdrive.photos.readonly%20https%3A%2F%2Fwww.googleapis.com%2Fauth%2Fpeopleapi.readonly&response_type=code\n",
            "\n",
            "Enter your authorization code:\n",
            "··········\n",
            "Mounted at /content/drive/\n"
          ],
          "name": "stdout"
        }
      ]
    },
    {
      "metadata": {
        "id": "xntCSxI6_Qi4",
        "colab_type": "code",
        "colab": {
          "base_uri": "https://localhost:8080/",
          "height": 34
        },
        "outputId": "34bcaae8-4765-4de1-c760-e652ef5837c8"
      },
      "cell_type": "code",
      "source": [
        "import pandas as pd\n",
        "import numpy as np\n",
        "import matplotlib.pyplot as plt\n",
        "%matplotlib inline\n",
        "from sklearn.model_selection import train_test_split\n",
        "from keras.utils.np_utils import to_categorical\n",
        "from keras.models import Model\n",
        "from keras.layers import Dense, Dropout, Flatten, Conv2D, MaxPool2D, Input\n",
        "from keras.optimizers import RMSprop, Adam\n",
        "from keras.preprocessing.image import ImageDataGenerator\n",
        "from keras.callbacks import ReduceLROnPlateau, CSVLogger, Callback\n",
        "from keras import backend as K\n",
        "\n",
        "TRAINING_LOGS_FILE = \"training_logs.csv\"\n",
        "MODEL_FILE = \"model.h5\"\n",
        "KAGGLE_SUBMISSION_FILE = \"kaggle_submission.csv\""
      ],
      "execution_count": 1,
      "outputs": [
        {
          "output_type": "stream",
          "text": [
            "Using TensorFlow backend.\n"
          ],
          "name": "stderr"
        }
      ]
    },
    {
      "metadata": {
        "id": "cu03AK0N_2Ue",
        "colab_type": "code",
        "colab": {}
      },
      "cell_type": "code",
      "source": [
        "VERBOSITY = 1\n",
        "EPOCHS = 100\n",
        "BATCH_SIZE = 512\n",
        "CLASSES = 10\n",
        "CHANNELS = 1\n",
        "IMAGE_SIZE = 28\n",
        "IMAGE_WIDTH, IMAGE_HEIGHT = IMAGE_SIZE, IMAGE_SIZE\n",
        "VALIDATION_RATIO = 0.1"
      ],
      "execution_count": 0,
      "outputs": []
    },
    {
      "metadata": {
        "id": "Vt88XBVINAr1",
        "colab_type": "code",
        "colab": {}
      },
      "cell_type": "code",
      "source": [
        "# Learning rate finder\n",
        "\n",
        "class LR_Finder(Callback):\n",
        "    \n",
        "    def __init__(self, start_lr=1e-5, end_lr=10, step_size=None, beta=.98):\n",
        "        super().__init__()\n",
        "        \n",
        "        self.start_lr = start_lr\n",
        "        self.end_lr = end_lr\n",
        "        self.step_size = step_size\n",
        "        self.beta = beta\n",
        "        self.lr_mult = (end_lr/start_lr)**(1/step_size)\n",
        "        \n",
        "    def on_train_begin(self, logs=None):\n",
        "        self.best_loss = 1e9\n",
        "        self.avg_loss = 0\n",
        "        self.losses, self.smoothed_losses, self.lrs, self.iterations = [], [], [], []\n",
        "        self.iteration = 0\n",
        "        logs = logs or {}\n",
        "        K.set_value(self.model.optimizer.lr, self.start_lr)\n",
        "        \n",
        "    def on_batch_end(self, epoch, logs=None):\n",
        "        logs = logs or {}\n",
        "        loss = logs.get('loss')\n",
        "        self.iteration += 1\n",
        "        \n",
        "        self.avg_loss = self.beta * self.avg_loss + (1 - self.beta) * loss\n",
        "        smoothed_loss = self.avg_loss / (1 - self.beta**self.iteration)\n",
        "        \n",
        "        # Check if the loss is not exploding\n",
        "        if self.iteration>1 and smoothed_loss > self.best_loss * 4:\n",
        "            self.model.stop_training = True\n",
        "            return\n",
        "\n",
        "        if smoothed_loss < self.best_loss or self.iteration==1:\n",
        "            self.best_loss = smoothed_loss\n",
        "        \n",
        "        lr = self.start_lr * (self.lr_mult**self.iteration)\n",
        "        \n",
        "        self.losses.append(loss)\n",
        "        self.smoothed_losses.append(smoothed_loss)\n",
        "        self.lrs.append(lr)\n",
        "        self.iterations.append(self.iteration)\n",
        "        \n",
        "        \n",
        "        K.set_value(self.model.optimizer.lr, lr)  \n",
        "        \n",
        "    def plot_lr(self):\n",
        "        plt.xlabel('Iterations')\n",
        "        plt.ylabel('Learning rate')\n",
        "        plt.plot(self.iterations, self.lrs)\n",
        "        \n",
        "    def plot(self, n_skip=10):\n",
        "        plt.ylabel('Loss')\n",
        "        plt.xlabel('Learning rate (log scale)')\n",
        "        plt.plot(self.lrs[n_skip:-5], self.losses[n_skip:-5])\n",
        "        plt.xscale('log')\n",
        "        \n",
        "    def plot_smoothed_loss(self, n_skip=10):\n",
        "        plt.ylabel('Smoothed Losses')\n",
        "        plt.xlabel('Learning rate (log scale)')\n",
        "        plt.plot(self.lrs[n_skip:-5], self.smoothed_losses[n_skip:-5])\n",
        "        plt.xscale('log')\n",
        "        \n",
        "    def plot_loss(self):\n",
        "        plt.ylabel('Losses')\n",
        "        plt.xlabel('Iterations')\n",
        "        plt.plot(self.iterations[10:], self.losses[10:])"
      ],
      "execution_count": 0,
      "outputs": []
    },
    {
      "metadata": {
        "id": "K9bcStAe_7mP",
        "colab_type": "code",
        "colab": {}
      },
      "cell_type": "code",
      "source": [
        "path = \"drive/My Drive/MNIST/\"\n",
        "train = pd.read_csv(path + \"train.csv\")\n",
        "test = pd.read_csv(path + \"test.csv\")\n",
        "\n",
        "y = train[\"label\"]\n",
        "x = train.drop(labels = [\"label\"], axis = 1) \n",
        "\n",
        "# Reshape data\n",
        "x = x.values.reshape(-1, IMAGE_WIDTH, IMAGE_HEIGHT, CHANNELS)\n",
        "test = test.values.reshape(-1, IMAGE_WIDTH, IMAGE_HEIGHT, CHANNELS)\n",
        "\n",
        "# One-Hot encoding\n",
        "y = to_categorical(y, num_classes=CLASSES)"
      ],
      "execution_count": 0,
      "outputs": []
    },
    {
      "metadata": {
        "id": "Ow7U_xFaIF7T",
        "colab_type": "code",
        "colab": {
          "base_uri": "https://localhost:8080/",
          "height": 34
        },
        "outputId": "b9545ec6-4035-4335-f833-d326c14c9dd3"
      },
      "cell_type": "code",
      "source": [
        "import gc; gc.enable()\n",
        "gc.collect()"
      ],
      "execution_count": 5,
      "outputs": [
        {
          "output_type": "execute_result",
          "data": {
            "text/plain": [
              "7"
            ]
          },
          "metadata": {
            "tags": []
          },
          "execution_count": 5
        }
      ]
    },
    {
      "metadata": {
        "id": "wU_xzlzxAEoX",
        "colab_type": "code",
        "colab": {}
      },
      "cell_type": "code",
      "source": [
        "# Prepare training/validation sets\n",
        "x_training, x_validation, y_training, y_validation = train_test_split(x,\n",
        "                                                                      y,\n",
        "                                                                      test_size=VALIDATION_RATIO,\n",
        "                                                                      shuffle = True)\n"
      ],
      "execution_count": 0,
      "outputs": []
    },
    {
      "metadata": {
        "id": "xYtAN_C2RvdF",
        "colab_type": "code",
        "colab": {}
      },
      "cell_type": "code",
      "source": [
        "K.clear_session()"
      ],
      "execution_count": 0,
      "outputs": []
    },
    {
      "metadata": {
        "id": "P-9D65XgAK7w",
        "colab_type": "code",
        "colab": {
          "base_uri": "https://localhost:8080/",
          "height": 612
        },
        "outputId": "09dadc72-f0f8-41ba-82ee-5133fae32d56"
      },
      "cell_type": "code",
      "source": [
        "inp = Input(shape=(IMAGE_HEIGHT, IMAGE_WIDTH, CHANNELS))\n",
        "x = Conv2D(filters=32, kernel_size=(5,5), padding='Same', activation='relu')(inp)\n",
        "x = MaxPool2D(pool_size=(2,2))(x)\n",
        "x = Dropout(0.5)(x)\n",
        "x = Conv2D(filters=64, kernel_size=(3,3), padding='Same', activation='relu')(x)\n",
        "x = Conv2D(filters=64, kernel_size=(3,3), padding='Same', activation='relu')(x)\n",
        "x = MaxPool2D(pool_size=(2,2), strides=(2,2))(x)\n",
        "x = Dropout(0.5)(x)\n",
        "x = Flatten()(x)\n",
        "x = Dense(8192, activation='relu')(x)\n",
        "x = Dropout(0.5)(x)\n",
        "x = Dense(8192, activation='relu')(x)\n",
        "x = Dropout(0.5)(x)\n",
        "output = Dense(CLASSES, activation=\"softmax\")(x)\n",
        "\n",
        "model = Model(inp, output)\n",
        "model.summary()"
      ],
      "execution_count": 17,
      "outputs": [
        {
          "output_type": "stream",
          "text": [
            "_________________________________________________________________\n",
            "Layer (type)                 Output Shape              Param #   \n",
            "=================================================================\n",
            "input_1 (InputLayer)         (None, 28, 28, 1)         0         \n",
            "_________________________________________________________________\n",
            "conv2d_1 (Conv2D)            (None, 28, 28, 32)        832       \n",
            "_________________________________________________________________\n",
            "max_pooling2d_1 (MaxPooling2 (None, 14, 14, 32)        0         \n",
            "_________________________________________________________________\n",
            "dropout_1 (Dropout)          (None, 14, 14, 32)        0         \n",
            "_________________________________________________________________\n",
            "conv2d_2 (Conv2D)            (None, 14, 14, 64)        18496     \n",
            "_________________________________________________________________\n",
            "conv2d_3 (Conv2D)            (None, 14, 14, 64)        36928     \n",
            "_________________________________________________________________\n",
            "max_pooling2d_2 (MaxPooling2 (None, 7, 7, 64)          0         \n",
            "_________________________________________________________________\n",
            "dropout_2 (Dropout)          (None, 7, 7, 64)          0         \n",
            "_________________________________________________________________\n",
            "flatten_1 (Flatten)          (None, 3136)              0         \n",
            "_________________________________________________________________\n",
            "dense_1 (Dense)              (None, 8192)              25698304  \n",
            "_________________________________________________________________\n",
            "dropout_3 (Dropout)          (None, 8192)              0         \n",
            "_________________________________________________________________\n",
            "dense_2 (Dense)              (None, 8192)              67117056  \n",
            "_________________________________________________________________\n",
            "dropout_4 (Dropout)          (None, 8192)              0         \n",
            "_________________________________________________________________\n",
            "dense_3 (Dense)              (None, 10)                81930     \n",
            "=================================================================\n",
            "Total params: 92,953,546\n",
            "Trainable params: 92,953,546\n",
            "Non-trainable params: 0\n",
            "_________________________________________________________________\n"
          ],
          "name": "stdout"
        }
      ]
    },
    {
      "metadata": {
        "id": "iRChk4o7CzaO",
        "colab_type": "code",
        "colab": {}
      },
      "cell_type": "code",
      "source": [
        "# Data augmentation\n",
        "data_generator = ImageDataGenerator(rescale=1./255,\n",
        "                                    rotation_range=1,\n",
        "                                    zoom_range=0.1, \n",
        "                                    width_shift_range=0.05,\n",
        "                                    height_shift_range=0.05)\n",
        "data_generator.fit(x_training)"
      ],
      "execution_count": 0,
      "outputs": []
    },
    {
      "metadata": {
        "id": "0ck70-JzJQJV",
        "colab_type": "code",
        "colab": {
          "base_uri": "https://localhost:8080/",
          "height": 34
        },
        "outputId": "4889e036-13aa-476f-d141-11e7a3232b88"
      },
      "cell_type": "code",
      "source": [
        "gc.collect()"
      ],
      "execution_count": 14,
      "outputs": [
        {
          "output_type": "execute_result",
          "data": {
            "text/plain": [
              "9998"
            ]
          },
          "metadata": {
            "tags": []
          },
          "execution_count": 14
        }
      ]
    },
    {
      "metadata": {
        "id": "9DNa-5xRBt60",
        "colab_type": "code",
        "colab": {
          "base_uri": "https://localhost:8080/",
          "height": 68
        },
        "outputId": "43d7600d-11d7-46eb-bdb7-33161c1063fe"
      },
      "cell_type": "code",
      "source": [
        "lrf = LR_Finder(start_lr=1e-6, end_lr=1e-1, step_size=50)\n",
        "model.compile(loss='categorical_crossentropy', optimizer='ADAM', metrics=['accuracy'])\n",
        "model.fit_generator(generator=data_generator.flow(x_training, y_training, batch_size=BATCH_SIZE),\n",
        "                    epochs=1,\n",
        "                    steps_per_epoch=x_training.shape[0] // BATCH_SIZE,\n",
        "                    callbacks=[lrf])"
      ],
      "execution_count": 11,
      "outputs": [
        {
          "output_type": "stream",
          "text": [
            "Epoch 1/1\n",
            "73/73 [==============================] - 20s 273ms/step - loss: 4.8804 - acc: 0.1842\n"
          ],
          "name": "stdout"
        },
        {
          "output_type": "execute_result",
          "data": {
            "text/plain": [
              "<keras.callbacks.History at 0x7fe1ce4cfc50>"
            ]
          },
          "metadata": {
            "tags": []
          },
          "execution_count": 11
        }
      ]
    },
    {
      "metadata": {
        "id": "Vy3RArwTNmuv",
        "colab_type": "code",
        "colab": {
          "base_uri": "https://localhost:8080/",
          "height": 279
        },
        "outputId": "2e605a0c-1ebb-418c-ffae-52bdf654670a"
      },
      "cell_type": "code",
      "source": [
        "lrf.plot_lr()"
      ],
      "execution_count": 12,
      "outputs": [
        {
          "output_type": "display_data",
          "data": {
            "image/png": "[encoded data removed]",
            "text/plain": [
              "<matplotlib.figure.Figure at 0x7fe1cdf139e8>"
            ]
          },
          "metadata": {
            "tags": []
          }
        }
      ]
    },
    {
      "metadata": {
        "id": "cBnIOMRrNqlJ",
        "colab_type": "code",
        "colab": {
          "base_uri": "https://localhost:8080/",
          "height": 286
        },
        "outputId": "03bef65a-8973-483b-babe-4e8b9b3f50d6"
      },
      "cell_type": "code",
      "source": [
        "lrf.plot_smoothed_loss()"
      ],
      "execution_count": 13,
      "outputs": [
        {
          "output_type": "display_data",
          "data": {
            "image/png": "[encoded data removed]",
            "text/plain": [
              "<matplotlib.figure.Figure at 0x7fe1ce470080>"
            ]
          },
          "metadata": {
            "tags": []
          }
        }
      ]
    },
    {
      "metadata": {
        "id": "4i5keKZUC02b",
        "colab_type": "code",
        "colab": {
          "base_uri": "https://localhost:8080/",
          "height": 3437
        },
        "outputId": "9a2c39b2-aad9-4a7d-cec3-ae78b4bb0585"
      },
      "cell_type": "code",
      "source": [
        "# Training\n",
        "model.compile(optimizer=Adam(lr=1e-4, epsilon=1e-08, decay=0.00001), loss=\"categorical_crossentropy\", metrics=[\"accuracy\"])\n",
        "history = model.fit_generator(data_generator.flow(x_training,\n",
        "                                                  y_training,\n",
        "                                                  batch_size=BATCH_SIZE),\n",
        "                              epochs=EPOCHS,\n",
        "                              validation_data=(x_validation, y_validation),\n",
        "                              verbose=VERBOSITY,\n",
        "                              steps_per_epoch=x_training.shape[0] // BATCH_SIZE,\n",
        "                              callbacks=[CSVLogger(TRAINING_LOGS_FILE,\n",
        "                                                   append=False,\n",
        "                                                   separator=\";\")])\n",
        "model.save_weights(MODEL_FILE)"
      ],
      "execution_count": 19,
      "outputs": [
        {
          "output_type": "stream",
          "text": [
            "Epoch 1/100\n",
            "73/73 [==============================] - 21s 290ms/step - loss: 1.2180 - acc: 0.6080 - val_loss: 1.5011 - val_acc: 0.9043\n",
            "Epoch 2/100\n",
            "73/73 [==============================] - 18s 252ms/step - loss: 0.5257 - acc: 0.8323 - val_loss: 0.8684 - val_acc: 0.9450\n",
            "Epoch 3/100\n",
            "73/73 [==============================] - 18s 250ms/step - loss: 0.3140 - acc: 0.9014 - val_loss: 0.5555 - val_acc: 0.9648\n",
            "Epoch 4/100\n",
            "73/73 [==============================] - 18s 250ms/step - loss: 0.2257 - acc: 0.9300 - val_loss: 0.3624 - val_acc: 0.9769\n",
            "Epoch 5/100\n",
            "73/73 [==============================] - 18s 250ms/step - loss: 0.1846 - acc: 0.9415 - val_loss: 0.3493 - val_acc: 0.9776\n",
            "Epoch 6/100\n",
            "73/73 [==============================] - 18s 250ms/step - loss: 0.1530 - acc: 0.9513 - val_loss: 0.2665 - val_acc: 0.9831\n",
            "Epoch 7/100\n",
            "73/73 [==============================] - 18s 250ms/step - loss: 0.1400 - acc: 0.9548 - val_loss: 0.2631 - val_acc: 0.9836\n",
            "Epoch 8/100\n",
            "73/73 [==============================] - 18s 251ms/step - loss: 0.1251 - acc: 0.9600 - val_loss: 0.2248 - val_acc: 0.9860\n",
            "Epoch 9/100\n",
            "73/73 [==============================] - 18s 250ms/step - loss: 0.1178 - acc: 0.9620 - val_loss: 0.2258 - val_acc: 0.9860\n",
            "Epoch 10/100\n",
            "73/73 [==============================] - 18s 250ms/step - loss: 0.1069 - acc: 0.9661 - val_loss: 0.1999 - val_acc: 0.9874\n",
            "Epoch 11/100\n",
            "73/73 [==============================] - 18s 250ms/step - loss: 0.0996 - acc: 0.9674 - val_loss: 0.1972 - val_acc: 0.9874\n",
            "Epoch 12/100\n",
            "73/73 [==============================] - 18s 250ms/step - loss: 0.0941 - acc: 0.9694 - val_loss: 0.1848 - val_acc: 0.9883\n",
            "Epoch 13/100\n",
            "73/73 [==============================] - 18s 251ms/step - loss: 0.0884 - acc: 0.9713 - val_loss: 0.1845 - val_acc: 0.9883\n",
            "Epoch 14/100\n",
            "73/73 [==============================] - 18s 251ms/step - loss: 0.0868 - acc: 0.9717 - val_loss: 0.1854 - val_acc: 0.9883\n",
            "Epoch 15/100\n",
            "73/73 [==============================] - 18s 250ms/step - loss: 0.0839 - acc: 0.9732 - val_loss: 0.1677 - val_acc: 0.9895\n",
            "Epoch 16/100\n",
            "73/73 [==============================] - 18s 249ms/step - loss: 0.0741 - acc: 0.9760 - val_loss: 0.1804 - val_acc: 0.9888\n",
            "Epoch 17/100\n",
            "73/73 [==============================] - 18s 250ms/step - loss: 0.0732 - acc: 0.9759 - val_loss: 0.1635 - val_acc: 0.9895\n",
            "Epoch 18/100\n",
            "73/73 [==============================] - 18s 249ms/step - loss: 0.0718 - acc: 0.9776 - val_loss: 0.1509 - val_acc: 0.9905\n",
            "Epoch 19/100\n",
            "73/73 [==============================] - 18s 250ms/step - loss: 0.0659 - acc: 0.9777 - val_loss: 0.1343 - val_acc: 0.9917\n",
            "Epoch 20/100\n",
            "73/73 [==============================] - 18s 250ms/step - loss: 0.0668 - acc: 0.9782 - val_loss: 0.1266 - val_acc: 0.9921\n",
            "Epoch 21/100\n",
            "73/73 [==============================] - 18s 249ms/step - loss: 0.0636 - acc: 0.9788 - val_loss: 0.1458 - val_acc: 0.9910\n",
            "Epoch 22/100\n",
            "73/73 [==============================] - 18s 250ms/step - loss: 0.0589 - acc: 0.9808 - val_loss: 0.1660 - val_acc: 0.9895\n",
            "Epoch 23/100\n",
            "73/73 [==============================] - 18s 249ms/step - loss: 0.0589 - acc: 0.9809 - val_loss: 0.1382 - val_acc: 0.9914\n",
            "Epoch 24/100\n",
            "73/73 [==============================] - 18s 250ms/step - loss: 0.0559 - acc: 0.9822 - val_loss: 0.1650 - val_acc: 0.9898\n",
            "Epoch 25/100\n",
            "73/73 [==============================] - 18s 250ms/step - loss: 0.0548 - acc: 0.9815 - val_loss: 0.1281 - val_acc: 0.9919\n",
            "Epoch 26/100\n",
            "73/73 [==============================] - 18s 250ms/step - loss: 0.0511 - acc: 0.9837 - val_loss: 0.1406 - val_acc: 0.9912\n",
            "Epoch 27/100\n",
            "73/73 [==============================] - 18s 250ms/step - loss: 0.0512 - acc: 0.9836 - val_loss: 0.1266 - val_acc: 0.9921\n",
            "Epoch 28/100\n",
            "73/73 [==============================] - 18s 250ms/step - loss: 0.0510 - acc: 0.9834 - val_loss: 0.1293 - val_acc: 0.9914\n",
            "Epoch 29/100\n",
            "73/73 [==============================] - 18s 250ms/step - loss: 0.0476 - acc: 0.9844 - val_loss: 0.1305 - val_acc: 0.9919\n",
            "Epoch 30/100\n",
            "73/73 [==============================] - 18s 250ms/step - loss: 0.0478 - acc: 0.9850 - val_loss: 0.1182 - val_acc: 0.9926\n",
            "Epoch 31/100\n",
            "73/73 [==============================] - 18s 250ms/step - loss: 0.0462 - acc: 0.9843 - val_loss: 0.1228 - val_acc: 0.9924\n",
            "Epoch 32/100\n",
            "73/73 [==============================] - 18s 250ms/step - loss: 0.0448 - acc: 0.9848 - val_loss: 0.1343 - val_acc: 0.9917\n",
            "Epoch 33/100\n",
            "73/73 [==============================] - 18s 250ms/step - loss: 0.0443 - acc: 0.9860 - val_loss: 0.1272 - val_acc: 0.9919\n",
            "Epoch 34/100\n",
            "73/73 [==============================] - 18s 249ms/step - loss: 0.0458 - acc: 0.9847 - val_loss: 0.1284 - val_acc: 0.9917\n",
            "Epoch 35/100\n",
            "73/73 [==============================] - 18s 249ms/step - loss: 0.0424 - acc: 0.9860 - val_loss: 0.1262 - val_acc: 0.9921\n",
            "Epoch 36/100\n",
            "73/73 [==============================] - 18s 249ms/step - loss: 0.0398 - acc: 0.9864 - val_loss: 0.1266 - val_acc: 0.9921\n",
            "Epoch 37/100\n",
            "73/73 [==============================] - 18s 250ms/step - loss: 0.0414 - acc: 0.9859 - val_loss: 0.1420 - val_acc: 0.9912\n",
            "Epoch 38/100\n",
            "73/73 [==============================] - 18s 250ms/step - loss: 0.0405 - acc: 0.9864 - val_loss: 0.1075 - val_acc: 0.9933\n",
            "Epoch 39/100\n",
            "73/73 [==============================] - 18s 249ms/step - loss: 0.0382 - acc: 0.9872 - val_loss: 0.1113 - val_acc: 0.9931\n",
            "Epoch 40/100\n",
            "73/73 [==============================] - 18s 250ms/step - loss: 0.0385 - acc: 0.9871 - val_loss: 0.1266 - val_acc: 0.9921\n",
            "Epoch 41/100\n",
            "73/73 [==============================] - 18s 250ms/step - loss: 0.0377 - acc: 0.9874 - val_loss: 0.1010 - val_acc: 0.9936\n",
            "Epoch 42/100\n",
            "73/73 [==============================] - 18s 249ms/step - loss: 0.0366 - acc: 0.9878 - val_loss: 0.1041 - val_acc: 0.9933\n",
            "Epoch 43/100\n",
            "73/73 [==============================] - 18s 249ms/step - loss: 0.0356 - acc: 0.9888 - val_loss: 0.1319 - val_acc: 0.9917\n",
            "Epoch 44/100\n",
            "73/73 [==============================] - 18s 249ms/step - loss: 0.0345 - acc: 0.9881 - val_loss: 0.1080 - val_acc: 0.9931\n",
            "Epoch 45/100\n",
            "73/73 [==============================] - 18s 250ms/step - loss: 0.0366 - acc: 0.9878 - val_loss: 0.1103 - val_acc: 0.9931\n",
            "Epoch 46/100\n",
            "73/73 [==============================] - 18s 249ms/step - loss: 0.0350 - acc: 0.9882 - val_loss: 0.1036 - val_acc: 0.9936\n",
            "Epoch 47/100\n",
            "73/73 [==============================] - 18s 249ms/step - loss: 0.0356 - acc: 0.9881 - val_loss: 0.1026 - val_acc: 0.9936\n",
            "Epoch 48/100\n",
            "73/73 [==============================] - 18s 250ms/step - loss: 0.0332 - acc: 0.9891 - val_loss: 0.1036 - val_acc: 0.9936\n",
            "Epoch 49/100\n",
            "73/73 [==============================] - 18s 250ms/step - loss: 0.0332 - acc: 0.9886 - val_loss: 0.1149 - val_acc: 0.9926\n",
            "Epoch 50/100\n",
            "73/73 [==============================] - 18s 249ms/step - loss: 0.0309 - acc: 0.9895 - val_loss: 0.1163 - val_acc: 0.9924\n",
            "Epoch 51/100\n",
            "73/73 [==============================] - 18s 250ms/step - loss: 0.0294 - acc: 0.9904 - val_loss: 0.1198 - val_acc: 0.9924\n",
            "Epoch 52/100\n",
            "73/73 [==============================] - 18s 249ms/step - loss: 0.0311 - acc: 0.9892 - val_loss: 0.1075 - val_acc: 0.9933\n",
            "Epoch 53/100\n",
            "73/73 [==============================] - 18s 248ms/step - loss: 0.0310 - acc: 0.9896 - val_loss: 0.0985 - val_acc: 0.9938\n",
            "Epoch 54/100\n",
            "73/73 [==============================] - 18s 250ms/step - loss: 0.0299 - acc: 0.9901 - val_loss: 0.1151 - val_acc: 0.9929\n",
            "Epoch 55/100\n",
            "73/73 [==============================] - 18s 250ms/step - loss: 0.0275 - acc: 0.9911 - val_loss: 0.1190 - val_acc: 0.9926\n",
            "Epoch 56/100\n",
            "73/73 [==============================] - 18s 249ms/step - loss: 0.0284 - acc: 0.9904 - val_loss: 0.1016 - val_acc: 0.9936\n",
            "Epoch 57/100\n",
            "73/73 [==============================] - 18s 249ms/step - loss: 0.0286 - acc: 0.9904 - val_loss: 0.1156 - val_acc: 0.9926\n",
            "Epoch 58/100\n",
            "73/73 [==============================] - 18s 250ms/step - loss: 0.0287 - acc: 0.9910 - val_loss: 0.1160 - val_acc: 0.9926\n",
            "Epoch 59/100\n",
            "73/73 [==============================] - 18s 249ms/step - loss: 0.0292 - acc: 0.9897 - val_loss: 0.1228 - val_acc: 0.9924\n",
            "Epoch 60/100\n",
            "73/73 [==============================] - 18s 249ms/step - loss: 0.0284 - acc: 0.9909 - val_loss: 0.1242 - val_acc: 0.9921\n",
            "Epoch 61/100\n",
            "73/73 [==============================] - 18s 250ms/step - loss: 0.0288 - acc: 0.9899 - val_loss: 0.1109 - val_acc: 0.9931\n",
            "Epoch 62/100\n",
            "73/73 [==============================] - 18s 250ms/step - loss: 0.0263 - acc: 0.9912 - val_loss: 0.1113 - val_acc: 0.9931\n",
            "Epoch 63/100\n",
            "73/73 [==============================] - 18s 249ms/step - loss: 0.0280 - acc: 0.9905 - val_loss: 0.0959 - val_acc: 0.9940\n",
            "Epoch 64/100\n",
            "73/73 [==============================] - 18s 249ms/step - loss: 0.0254 - acc: 0.9914 - val_loss: 0.1260 - val_acc: 0.9921\n",
            "Epoch 65/100\n",
            "73/73 [==============================] - 18s 249ms/step - loss: 0.0264 - acc: 0.9914 - val_loss: 0.1011 - val_acc: 0.9936\n",
            "Epoch 66/100\n",
            "73/73 [==============================] - 18s 248ms/step - loss: 0.0268 - acc: 0.9912 - val_loss: 0.1098 - val_acc: 0.9931\n",
            "Epoch 67/100\n",
            "73/73 [==============================] - 18s 249ms/step - loss: 0.0238 - acc: 0.9922 - val_loss: 0.1144 - val_acc: 0.9929\n",
            "Epoch 68/100\n",
            "73/73 [==============================] - 18s 249ms/step - loss: 0.0244 - acc: 0.9917 - val_loss: 0.0998 - val_acc: 0.9938\n",
            "Epoch 69/100\n",
            "73/73 [==============================] - 18s 250ms/step - loss: 0.0230 - acc: 0.9922 - val_loss: 0.1066 - val_acc: 0.9933\n",
            "Epoch 70/100\n",
            "73/73 [==============================] - 18s 249ms/step - loss: 0.0241 - acc: 0.9916 - val_loss: 0.1113 - val_acc: 0.9931\n",
            "Epoch 71/100\n",
            "73/73 [==============================] - 18s 249ms/step - loss: 0.0263 - acc: 0.9910 - val_loss: 0.1190 - val_acc: 0.9926\n",
            "Epoch 72/100\n",
            "73/73 [==============================] - 18s 249ms/step - loss: 0.0232 - acc: 0.9923 - val_loss: 0.0959 - val_acc: 0.9940\n",
            "Epoch 73/100\n",
            "73/73 [==============================] - 18s 249ms/step - loss: 0.0234 - acc: 0.9920 - val_loss: 0.1113 - val_acc: 0.9931\n",
            "Epoch 74/100\n",
            "73/73 [==============================] - 18s 250ms/step - loss: 0.0242 - acc: 0.9918 - val_loss: 0.1113 - val_acc: 0.9931\n",
            "Epoch 75/100\n",
            "73/73 [==============================] - 18s 249ms/step - loss: 0.0214 - acc: 0.9933 - val_loss: 0.1114 - val_acc: 0.9929\n",
            "Epoch 76/100\n",
            "73/73 [==============================] - 18s 249ms/step - loss: 0.0234 - acc: 0.9920 - val_loss: 0.1243 - val_acc: 0.9921\n",
            "Epoch 77/100\n",
            "73/73 [==============================] - 18s 249ms/step - loss: 0.0229 - acc: 0.9926 - val_loss: 0.1075 - val_acc: 0.9933\n",
            "Epoch 78/100\n",
            "73/73 [==============================] - 18s 249ms/step - loss: 0.0236 - acc: 0.9924 - val_loss: 0.1141 - val_acc: 0.9929\n",
            "Epoch 79/100\n",
            "73/73 [==============================] - 18s 249ms/step - loss: 0.0207 - acc: 0.9933 - val_loss: 0.1090 - val_acc: 0.9931\n",
            "Epoch 80/100\n",
            "73/73 [==============================] - 18s 250ms/step - loss: 0.0205 - acc: 0.9930 - val_loss: 0.1089 - val_acc: 0.9931\n",
            "Epoch 81/100\n",
            "73/73 [==============================] - 18s 250ms/step - loss: 0.0204 - acc: 0.9926 - val_loss: 0.1095 - val_acc: 0.9929\n",
            "Epoch 82/100\n",
            "73/73 [==============================] - 18s 249ms/step - loss: 0.0223 - acc: 0.9925 - val_loss: 0.1075 - val_acc: 0.9933\n",
            "Epoch 83/100\n",
            "73/73 [==============================] - 18s 249ms/step - loss: 0.0204 - acc: 0.9930 - val_loss: 0.0998 - val_acc: 0.9938\n",
            "Epoch 84/100\n",
            "73/73 [==============================] - 18s 249ms/step - loss: 0.0203 - acc: 0.9927 - val_loss: 0.1036 - val_acc: 0.9936\n",
            "Epoch 85/100\n",
            "73/73 [==============================] - 18s 249ms/step - loss: 0.0193 - acc: 0.9935 - val_loss: 0.0998 - val_acc: 0.9938\n",
            "Epoch 86/100\n",
            "73/73 [==============================] - 18s 249ms/step - loss: 0.0200 - acc: 0.9932 - val_loss: 0.1144 - val_acc: 0.9924\n",
            "Epoch 87/100\n",
            "73/73 [==============================] - 18s 249ms/step - loss: 0.0199 - acc: 0.9936 - val_loss: 0.1190 - val_acc: 0.9926\n",
            "Epoch 88/100\n",
            "73/73 [==============================] - 18s 248ms/step - loss: 0.0188 - acc: 0.9933 - val_loss: 0.1266 - val_acc: 0.9921\n",
            "Epoch 89/100\n",
            "73/73 [==============================] - 18s 248ms/step - loss: 0.0196 - acc: 0.9932 - val_loss: 0.1190 - val_acc: 0.9926\n",
            "Epoch 90/100\n",
            "73/73 [==============================] - 18s 249ms/step - loss: 0.0174 - acc: 0.9942 - val_loss: 0.1075 - val_acc: 0.9933\n",
            "Epoch 91/100\n",
            "73/73 [==============================] - 18s 249ms/step - loss: 0.0180 - acc: 0.9939 - val_loss: 0.1190 - val_acc: 0.9926\n",
            "Epoch 92/100\n",
            "73/73 [==============================] - 18s 249ms/step - loss: 0.0186 - acc: 0.9943 - val_loss: 0.1075 - val_acc: 0.9933\n",
            "Epoch 93/100\n",
            "73/73 [==============================] - 18s 248ms/step - loss: 0.0179 - acc: 0.9939 - val_loss: 0.1211 - val_acc: 0.9924\n",
            "Epoch 94/100\n",
            "73/73 [==============================] - 18s 249ms/step - loss: 0.0176 - acc: 0.9941 - val_loss: 0.1223 - val_acc: 0.9924\n",
            "Epoch 95/100\n",
            "73/73 [==============================] - 18s 249ms/step - loss: 0.0175 - acc: 0.9939 - val_loss: 0.0953 - val_acc: 0.9940\n",
            "Epoch 96/100\n",
            "73/73 [==============================] - 18s 249ms/step - loss: 0.0166 - acc: 0.9945 - val_loss: 0.1092 - val_acc: 0.9931\n",
            "Epoch 97/100\n",
            "73/73 [==============================] - 18s 249ms/step - loss: 0.0189 - acc: 0.9936 - val_loss: 0.1170 - val_acc: 0.9926\n",
            "Epoch 98/100\n",
            "73/73 [==============================] - 18s 249ms/step - loss: 0.0165 - acc: 0.9948 - val_loss: 0.1113 - val_acc: 0.9931\n",
            "Epoch 99/100\n",
            "73/73 [==============================] - 18s 248ms/step - loss: 0.0164 - acc: 0.9944 - val_loss: 0.1305 - val_acc: 0.9919\n",
            "Epoch 100/100\n",
            "73/73 [==============================] - 18s 248ms/step - loss: 0.0173 - acc: 0.9944 - val_loss: 0.1268 - val_acc: 0.9919\n"
          ],
          "name": "stdout"
        }
      ]
    },
    {
      "metadata": {
        "id": "LQOgMPKSC8VM",
        "colab_type": "code",
        "colab": {
          "base_uri": "https://localhost:8080/",
          "height": 34
        },
        "outputId": "393635e7-5d8c-4147-b665-961a72243c0e"
      },
      "cell_type": "code",
      "source": [
        "# Testing\n",
        "predictions = model.predict(test, verbose=1)\n",
        "results = np.argmax(predictions,axis = 1)\n",
        "pd.DataFrame({\"ImageId\":list(range(1,len(results)+1)),\n",
        "              \"Label\":results}).to_csv(KAGGLE_SUBMISSION_FILE,\n",
        "                                           index=False,\n",
        "                                           header=True)"
      ],
      "execution_count": 20,
      "outputs": [
        {
          "output_type": "stream",
          "text": [
            "28000/28000 [==============================] - 9s 310us/step\n"
          ],
          "name": "stdout"
        }
      ]
    }
  ]
}